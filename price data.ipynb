{
 "cells": [
  {
   "cell_type": "code",
   "execution_count": null,
   "metadata": {
    "collapsed": true
   },
   "outputs": [],
   "source": [
    "from yahoo_fin import stock_info\n",
    "import pandas as pd\n",
    "import numpy as np\n",
    "from bisect import bisect_left, bisect_right\n",
    "import datetime  \n",
    "from pytz import timezone\n",
    "import pickle\n",
    "import json"
   ]
  },
  {
   "cell_type": "code",
   "execution_count": null,
   "metadata": {
    "collapsed": true
   },
   "outputs": [],
   "source": [
    "def create_price_table(tickers, start_date = '2019-01-01', end_date = datetime.datetime.now().strftime('%Y-%m-%d')):\n",
    "    \n",
    "    price_table = pd.DataFrame()\n",
    "    \n",
    "    for ticker in tickers:\n",
    "        try:\n",
    "            price = stock_info.get_data(ticker, start_date, end_date)\n",
    "        except:\n",
    "            continue\n",
    "        \n",
    "        if price_table.empty:\n",
    "            price_table = price.pivot(columns='ticker',values='adjclose')\n",
    "        else:\n",
    "            price_table = price_table.join(price.pivot(columns='ticker',values='adjclose'))\n",
    "    \n",
    "    return price_table\n",
    "    \n",
    "def format_price_table(price_data):\n",
    "    \"\"\"\n",
    "    returns price data which has a price for end date\n",
    "    \"\"\"\n",
    "    notnull = price_data.iloc[-1].notnull() # Which columns have final row null\n",
    "    price_data_not_null = price_data[[i[0] for i in notnull.items() if i[1]]]\n",
    "    price_data_not_null.columns.name = 'ticker'\n",
    "    return price_data_not_null\n",
    "\n",
    "def format_price_table_nan_values(price_data, thresh=0.1):\n",
    "    \n",
    "    drop_stocks = price_data.isna().apply('mean').reset_index().rename(columns = {0:'nas'}).query('nas > %s'%(thresh))\n",
    "    price_data = price_data.loc[:,~price_data.columns.isin(drop_stocks['ticker'])]\n",
    "    return price_data\n",
    "def get_stdevs_trim_price_data(price_data_not_null,upper_bound=0.95,lower_bound=0.05):\n",
    "    \n",
    "    \"\"\"\n",
    "    calculates std/mean of returns\n",
    "    trims according to bounds\n",
    "    returns std/mean table and trimmed price data\n",
    "    \"\"\"\n",
    "    stdevs = price_data_not_null.apply(lambda x: np.std(x)/x.mean())\n",
    "    keep = stdevs[(stdevs<stdevs.quantile(upper_bound)) & (stdevs>stdevs.quantile(lower_bound))].index\n",
    "    price_data_not_null = price_data_not_null[keep] # Trim price data according to std bounds\n",
    "    \n",
    "    return stdevs,price_data_not_null\n",
    "\n",
    "def get_correlation_table(price_data):\n",
    "    \n",
    "    price_data_pct_change = price_data.pct_change(fill_method='ffill')[1:]\n",
    "    df_cor = price_data_pct_change.corr().reset_index().melt(id_vars='ticker', var_name='cor').query('ticker != cor')\n",
    "    #Corr table has duplicates\n",
    "    df_cor = df_cor[pd.DataFrame(np.sort(df_cor[['ticker','cor']].values,1)).duplicated().values] \n",
    "    df_cor = df_cor.rename(columns={'ticker':'ticker1', 'cor':'ticker2','value':'cor'})\n",
    "    \n",
    "    return df_cor\n",
    "\n",
    "def trim_cor_table(df_cor, upper_bound=0.9,lower_bound=0.5):\n",
    "    \n",
    "    df_cor_trimmed = df_cor[(df_cor['cor']<upper_bound) & (df_cor['cor'] > lower_bound)]\n",
    "    return df_cor_trimmed"
   ]
  }
 ],
 "metadata": {
  "kernelspec": {
   "display_name": "Python 3",
   "language": "python",
   "name": "python3"
  },
  "language_info": {
   "codemirror_mode": {
    "name": "ipython",
    "version": 3
   },
   "file_extension": ".py",
   "mimetype": "text/x-python",
   "name": "python",
   "nbconvert_exporter": "python",
   "pygments_lexer": "ipython3",
   "version": "3.6.1"
  }
 },
 "nbformat": 4,
 "nbformat_minor": 2
}
