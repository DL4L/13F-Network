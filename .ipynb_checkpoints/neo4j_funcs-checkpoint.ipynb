{
 "cells": [
  {
   "cell_type": "code",
   "execution_count": 4,
   "metadata": {
    "collapsed": true
   },
   "outputs": [],
   "source": [
    "from py2neo import Graph, Node, Relationship\n",
    "import os\n",
    "from tqdm import tqdm\n",
    "\n",
    "NEO4J_USER = 'neo4j'\n",
    "NEO4J_PASSWORD = '123456'\n",
    "NEO4J_HOST = 'localhost'\n",
    "\n",
    "\n",
    "class NeoGraph:\n",
    "    def __init__(self,gcp=None):\n",
    "        self.g = Graph(host=NEO4J_HOST, user= NEO4J_USER, password = NEO4J_PASSWORD)\n",
    "\n",
    "    def truncate(self):\n",
    "        \"\"\"Remove all nodes in the graph\"\"\"\n",
    "        print(\"----- Truncating graph -----\")\n",
    "        tx = self.g.begin()\n",
    "        result = tx.run('MATCH (n) DETACH DELETE n')\n",
    "        tx.commit()\n",
    "        return result\n",
    "\n",
    "    def add_companies(self, df):\n",
    "        print(\"----- Starting Add companies process -----\")\n",
    "        tx = self.g.begin()\n",
    "        for _, x in tqdm(df.iterrows(), total = len(df)):\n",
    "            if x['ticker'] != \"NA\":\n",
    "                n = Node(\"Ticker\", name = x['ticker'], company = x['name'], \n",
    "                         sector = x['sector'], variation_coefficient= x['var_coef'])\n",
    "            tx.create(n)\n",
    "        tx.commit()\n",
    "        self.g.run(\"CREATE INDEX ON :Ticker(name)\")\n",
    "        print(\"----- Add companies process complete -----\")\n",
    "\n",
    "    def create_links(self, df):\n",
    "        print(\"----- Starting relationship creation process -----\")\n",
    "        for _, x in tqdm(df.iterrows(), total=df.shape[0]):\n",
    "            cypher = f\"MATCH (s1:Ticker {{name:\\'{x['ticker1']}\\'}}),(s2:Ticker {{name:\\'{x['ticker2']}\\'}}) CREATE (s1)-[:CORR {{corr : {x['cor']}, id : '{x['id']}'}}]->(s2)\"\n",
    "            self.g.run(cypher)\n",
    "        print(\"-----Relationship creation process complete -----\")\n",
    "    \n",
    "    \n",
    "    def add_tickers(self,df):\n",
    "        print(\"----- Starting Add companies process -----\")\n",
    "        tx = self.g.begin()\n",
    "        for _, x in tqdm(df.iterrows(), total = len(df)):\n",
    "            \n",
    "            n = Node(\"Ticker\", ticker = x['ticker'], company = x['name'], \n",
    "                     sector = x['sector'], )\n",
    "            tx.create(n)\n",
    "        tx.commit()\n",
    "        self.g.run(\"CREATE INDEX ON :Ticker(ticker)\")\n",
    "        print(\"----- Add companies process complete -----\")\n",
    "        \n",
    "    def add_funds(self,df):\n",
    "        print(\"----- Starting Add Funds process -----\")\n",
    "        tx = self.g.begin()\n",
    "        for _, x in tqdm(df.iterrows(), total = len(df)):\n",
    "            \n",
    "            n = Node(\"Fund\", name = x['name'])\n",
    "            tx.create(n)\n",
    "        tx.commit()\n",
    "        print(\"----- Add Funds process complete -----\")\n",
    "        "
   ]
  },
  {
   "cell_type": "code",
   "execution_count": 6,
   "metadata": {
    "collapsed": true
   },
   "outputs": [],
   "source": []
  },
  {
   "cell_type": "code",
   "execution_count": null,
   "metadata": {
    "collapsed": true
   },
   "outputs": [],
   "source": []
  }
 ],
 "metadata": {
  "kernelspec": {
   "display_name": "Python 3",
   "language": "python",
   "name": "python3"
  },
  "language_info": {
   "codemirror_mode": {
    "name": "ipython",
    "version": 3
   },
   "file_extension": ".py",
   "mimetype": "text/x-python",
   "name": "python",
   "nbconvert_exporter": "python",
   "pygments_lexer": "ipython3",
   "version": "3.6.1"
  }
 },
 "nbformat": 4,
 "nbformat_minor": 2
}
